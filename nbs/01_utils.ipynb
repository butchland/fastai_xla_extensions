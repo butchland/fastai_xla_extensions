{
 "cells": [
  {
   "cell_type": "code",
   "execution_count": null,
   "metadata": {},
   "outputs": [],
   "source": [
    "# default_exp core"
   ]
  },
  {
   "cell_type": "code",
   "execution_count": null,
   "metadata": {},
   "outputs": [],
   "source": [
    "#export\n",
    "import threading\n",
    "import time\n",
    "from torch.autograd.profiler import FunctionEvent, EventList\n",
    "from fastai2.callback.core import Callback\n",
    "import json\n",
    "\n",
    "class ChromeTrace(Callback):\n",
    "    def __init__(self, ll):\n",
    "        super().__init__()\n",
    "        self.l = ll\n",
    "        self.d = {}\n",
    "    def __call__(self, event_name):\n",
    "        tid = threading.get_ident()\n",
    "        tname = threading.current_thread().name\n",
    "        if event_name.startswith('begin'):\n",
    "            evt = event_name.replace('begin_', '')\n",
    "            self.d[evt] = time.process_time()*1000_000\n",
    "        elif event_name.startswith('after'):\n",
    "            evt = event_name.replace('after_', '')\n",
    "            end = time.process_time()*1000_000\n",
    "            if evt in self.d:\n",
    "                start = self.d[evt]\n",
    "                fe = FunctionEvent(tname, tid, evt, tid, start, end)\n",
    "            else:\n",
    "                # hack if there is only after_xxx, we need a start 500, 1000, 5000?\n",
    "                start = end-500 # 1-time after_xxx\n",
    "                fe = FunctionEvent(tname, tid, evt, tid, start, end)\n",
    "            self.l.append(fe)\n",
    "            self.d.pop(evt, None)\n",
    "    def export_chrome_trace(self, fname=\"export_chrome_trace.json\", dumps=False):\n",
    "        with open(fname, mode=\"w+\") as f:\n",
    "            prof = EventList(self.l)\n",
    "            prof.export_chrome_trace(f.name)\n",
    "            if dumps:\n",
    "                parsed = json.load(f)\n",
    "                print(json.dumps(parsed, indent=4, sort_keys=True))"
   ]
  }
 ],
 "metadata": {
  "kernelspec": {
   "display_name": "Python 3",
   "language": "python",
   "name": "python3"
  }
 },
 "nbformat": 4,
 "nbformat_minor": 4
}
